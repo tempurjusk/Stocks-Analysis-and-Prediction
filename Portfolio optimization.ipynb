{
 "cells": [
  {
   "cell_type": "code",
   "execution_count": 1,
   "metadata": {},
   "outputs": [],
   "source": [
    "#Importing the libraries\n",
    "import math\n",
    "import pandas as pd\n",
    "import numpy as np\n",
    "import matplotlib.pyplot as plt\n",
    "from datetime import datetime\n",
    "plt.style.use('fivethirtyeight')\n",
    "import yfinance as yf\n",
    "\n",
    "\n"
   ]
  },
  {
   "cell_type": "code",
   "execution_count": 2,
   "metadata": {},
   "outputs": [],
   "source": [
    "assets = ['HDFCBANK.NS', 'RELIANCE.NS', 'TCS.NS', 'HINDUNILVR.NS', 'INFY.NS']\n"
   ]
  },
  {
   "cell_type": "code",
   "execution_count": 3,
   "metadata": {},
   "outputs": [],
   "source": [
    "weights = np.array([0.2, 0.2, 0.2, 0.2, 0.2])"
   ]
  },
  {
   "cell_type": "code",
   "execution_count": 4,
   "metadata": {},
   "outputs": [],
   "source": [
    "stockStartDate = '2015-01-01'"
   ]
  },
  {
   "cell_type": "code",
   "execution_count": 5,
   "metadata": {},
   "outputs": [
    {
     "data": {
      "text/plain": [
       "'2022-12-29'"
      ]
     },
     "execution_count": 5,
     "metadata": {},
     "output_type": "execute_result"
    }
   ],
   "source": [
    "today = datetime.today().strftime('%Y-%m-%d')\n",
    "today\n"
   ]
  },
  {
   "cell_type": "code",
   "execution_count": 6,
   "metadata": {},
   "outputs": [
    {
     "name": "stdout",
     "output_type": "stream",
     "text": [
      "[*********************100%***********************]  1 of 1 completed\n",
      "[*********************100%***********************]  1 of 1 completed\n",
      "[*********************100%***********************]  1 of 1 completed\n",
      "[*********************100%***********************]  1 of 1 completed\n",
      "[*********************100%***********************]  1 of 1 completed\n"
     ]
    }
   ],
   "source": [
    "#Importing the data\n",
    "df = pd.DataFrame()\n",
    "\n",
    "for stock in assets:\n",
    "    df[stock] = yf.download(stock, data_source=' yahoo', start= stockStartDate, end= today)['Adj Close']\n"
   ]
  },
  {
   "cell_type": "code",
   "execution_count": 7,
   "metadata": {},
   "outputs": [
    {
     "data": {
      "text/html": [
       "<div>\n",
       "<style scoped>\n",
       "    .dataframe tbody tr th:only-of-type {\n",
       "        vertical-align: middle;\n",
       "    }\n",
       "\n",
       "    .dataframe tbody tr th {\n",
       "        vertical-align: top;\n",
       "    }\n",
       "\n",
       "    .dataframe thead th {\n",
       "        text-align: right;\n",
       "    }\n",
       "</style>\n",
       "<table border=\"1\" class=\"dataframe\">\n",
       "  <thead>\n",
       "    <tr style=\"text-align: right;\">\n",
       "      <th></th>\n",
       "      <th>HDFCBANK.NS</th>\n",
       "      <th>RELIANCE.NS</th>\n",
       "      <th>TCS.NS</th>\n",
       "      <th>HINDUNILVR.NS</th>\n",
       "      <th>INFY.NS</th>\n",
       "    </tr>\n",
       "    <tr>\n",
       "      <th>Date</th>\n",
       "      <th></th>\n",
       "      <th></th>\n",
       "      <th></th>\n",
       "      <th></th>\n",
       "      <th></th>\n",
       "    </tr>\n",
       "  </thead>\n",
       "  <tbody>\n",
       "    <tr>\n",
       "      <th>2015-01-01</th>\n",
       "      <td>451.475220</td>\n",
       "      <td>417.988922</td>\n",
       "      <td>1097.644043</td>\n",
       "      <td>663.048584</td>\n",
       "      <td>403.362732</td>\n",
       "    </tr>\n",
       "    <tr>\n",
       "      <th>2015-01-02</th>\n",
       "      <td>457.758606</td>\n",
       "      <td>416.882568</td>\n",
       "      <td>1112.261475</td>\n",
       "      <td>660.863159</td>\n",
       "      <td>411.289490</td>\n",
       "    </tr>\n",
       "    <tr>\n",
       "      <th>2015-01-05</th>\n",
       "      <td>453.893768</td>\n",
       "      <td>412.316254</td>\n",
       "      <td>1095.358154</td>\n",
       "      <td>664.665955</td>\n",
       "      <td>407.755066</td>\n",
       "    </tr>\n",
       "    <tr>\n",
       "      <th>2015-01-06</th>\n",
       "      <td>446.827942</td>\n",
       "      <td>393.603485</td>\n",
       "      <td>1054.976562</td>\n",
       "      <td>677.254639</td>\n",
       "      <td>399.235931</td>\n",
       "    </tr>\n",
       "    <tr>\n",
       "      <th>2015-01-07</th>\n",
       "      <td>448.132080</td>\n",
       "      <td>402.171326</td>\n",
       "      <td>1042.514771</td>\n",
       "      <td>701.033325</td>\n",
       "      <td>401.146149</td>\n",
       "    </tr>\n",
       "    <tr>\n",
       "      <th>...</th>\n",
       "      <td>...</td>\n",
       "      <td>...</td>\n",
       "      <td>...</td>\n",
       "      <td>...</td>\n",
       "      <td>...</td>\n",
       "    </tr>\n",
       "    <tr>\n",
       "      <th>2022-12-22</th>\n",
       "      <td>1612.050049</td>\n",
       "      <td>2577.800049</td>\n",
       "      <td>3259.699951</td>\n",
       "      <td>2645.350098</td>\n",
       "      <td>1522.050049</td>\n",
       "    </tr>\n",
       "    <tr>\n",
       "      <th>2022-12-23</th>\n",
       "      <td>1597.650024</td>\n",
       "      <td>2502.199951</td>\n",
       "      <td>3228.350098</td>\n",
       "      <td>2621.100098</td>\n",
       "      <td>1497.099976</td>\n",
       "    </tr>\n",
       "    <tr>\n",
       "      <th>2022-12-26</th>\n",
       "      <td>1629.449951</td>\n",
       "      <td>2524.050049</td>\n",
       "      <td>3252.899902</td>\n",
       "      <td>2617.449951</td>\n",
       "      <td>1502.400024</td>\n",
       "    </tr>\n",
       "    <tr>\n",
       "      <th>2022-12-27</th>\n",
       "      <td>1631.099976</td>\n",
       "      <td>2544.699951</td>\n",
       "      <td>3259.500000</td>\n",
       "      <td>2593.250000</td>\n",
       "      <td>1514.849976</td>\n",
       "    </tr>\n",
       "    <tr>\n",
       "      <th>2022-12-28</th>\n",
       "      <td>1629.800049</td>\n",
       "      <td>2544.449951</td>\n",
       "      <td>3257.100098</td>\n",
       "      <td>2583.600098</td>\n",
       "      <td>1510.150024</td>\n",
       "    </tr>\n",
       "  </tbody>\n",
       "</table>\n",
       "<p>1974 rows × 5 columns</p>\n",
       "</div>"
      ],
      "text/plain": [
       "            HDFCBANK.NS  RELIANCE.NS       TCS.NS  HINDUNILVR.NS      INFY.NS\n",
       "Date                                                                         \n",
       "2015-01-01   451.475220   417.988922  1097.644043     663.048584   403.362732\n",
       "2015-01-02   457.758606   416.882568  1112.261475     660.863159   411.289490\n",
       "2015-01-05   453.893768   412.316254  1095.358154     664.665955   407.755066\n",
       "2015-01-06   446.827942   393.603485  1054.976562     677.254639   399.235931\n",
       "2015-01-07   448.132080   402.171326  1042.514771     701.033325   401.146149\n",
       "...                 ...          ...          ...            ...          ...\n",
       "2022-12-22  1612.050049  2577.800049  3259.699951    2645.350098  1522.050049\n",
       "2022-12-23  1597.650024  2502.199951  3228.350098    2621.100098  1497.099976\n",
       "2022-12-26  1629.449951  2524.050049  3252.899902    2617.449951  1502.400024\n",
       "2022-12-27  1631.099976  2544.699951  3259.500000    2593.250000  1514.849976\n",
       "2022-12-28  1629.800049  2544.449951  3257.100098    2583.600098  1510.150024\n",
       "\n",
       "[1974 rows x 5 columns]"
      ]
     },
     "execution_count": 7,
     "metadata": {},
     "output_type": "execute_result"
    }
   ],
   "source": [
    "df "
   ]
  },
  {
   "cell_type": "code",
   "execution_count": 8,
   "metadata": {},
   "outputs": [
    {
     "data": {
      "text/plain": [
       "(1974, 5)"
      ]
     },
     "execution_count": 8,
     "metadata": {},
     "output_type": "execute_result"
    }
   ],
   "source": [
    "df.shape"
   ]
  },
  {
   "cell_type": "code",
   "execution_count": 9,
   "metadata": {},
   "outputs": [
    {
     "data": {
      "text/plain": [
       "<function matplotlib.pyplot.show(close=None, block=None)>"
      ]
     },
     "execution_count": 9,
     "metadata": {},
     "output_type": "execute_result"
    },
    {
     "data": {
      "image/png": "[encoded data removed]",
      "text/plain": [
       "<Figure size 640x480 with 1 Axes>"
      ]
     },
     "metadata": {},
     "output_type": "display_data"
    }
   ],
   "source": [
    "#Visualize\n",
    "\n",
    "title = 'Portfolio History'\n",
    "\n",
    "my_stocks = df\n",
    "\n",
    "for c in my_stocks.columns.values:\n",
    "    plt.plot(my_stocks[c], label= c)\n",
    "\n",
    "plt.xlabel('Date', fontsize = 18)\n",
    "plt.ylabel('Price', fontsize = 18)\n",
    "plt.legend(my_stocks.columns.values, loc= 'upper left')\n",
    "plt.show"
   ]
  },
  {
   "cell_type": "code",
   "execution_count": 10,
   "metadata": {},
   "outputs": [
    {
     "data": {
      "text/html": [
       "<div>\n",
       "<style scoped>\n",
       "    .dataframe tbody tr th:only-of-type {\n",
       "        vertical-align: middle;\n",
       "    }\n",
       "\n",
       "    .dataframe tbody tr th {\n",
       "        vertical-align: top;\n",
       "    }\n",
       "\n",
       "    .dataframe thead th {\n",
       "        text-align: right;\n",
       "    }\n",
       "</style>\n",
       "<table border=\"1\" class=\"dataframe\">\n",
       "  <thead>\n",
       "    <tr style=\"text-align: right;\">\n",
       "      <th></th>\n",
       "      <th>HDFCBANK.NS</th>\n",
       "      <th>RELIANCE.NS</th>\n",
       "      <th>TCS.NS</th>\n",
       "      <th>HINDUNILVR.NS</th>\n",
       "      <th>INFY.NS</th>\n",
       "    </tr>\n",
       "    <tr>\n",
       "      <th>Date</th>\n",
       "      <th></th>\n",
       "      <th></th>\n",
       "      <th></th>\n",
       "      <th></th>\n",
       "      <th></th>\n",
       "    </tr>\n",
       "  </thead>\n",
       "  <tbody>\n",
       "    <tr>\n",
       "      <th>2015-01-01</th>\n",
       "      <td>NaN</td>\n",
       "      <td>NaN</td>\n",
       "      <td>NaN</td>\n",
       "      <td>NaN</td>\n",
       "      <td>NaN</td>\n",
       "    </tr>\n",
       "    <tr>\n",
       "      <th>2015-01-02</th>\n",
       "      <td>0.013917</td>\n",
       "      <td>-0.002647</td>\n",
       "      <td>0.013317</td>\n",
       "      <td>-0.003296</td>\n",
       "      <td>0.019652</td>\n",
       "    </tr>\n",
       "    <tr>\n",
       "      <th>2015-01-05</th>\n",
       "      <td>-0.008443</td>\n",
       "      <td>-0.010953</td>\n",
       "      <td>-0.015197</td>\n",
       "      <td>0.005754</td>\n",
       "      <td>-0.008594</td>\n",
       "    </tr>\n",
       "    <tr>\n",
       "      <th>2015-01-06</th>\n",
       "      <td>-0.015567</td>\n",
       "      <td>-0.045385</td>\n",
       "      <td>-0.036866</td>\n",
       "      <td>0.018940</td>\n",
       "      <td>-0.020893</td>\n",
       "    </tr>\n",
       "    <tr>\n",
       "      <th>2015-01-07</th>\n",
       "      <td>0.002919</td>\n",
       "      <td>0.021768</td>\n",
       "      <td>-0.011812</td>\n",
       "      <td>0.035110</td>\n",
       "      <td>0.004785</td>\n",
       "    </tr>\n",
       "    <tr>\n",
       "      <th>...</th>\n",
       "      <td>...</td>\n",
       "      <td>...</td>\n",
       "      <td>...</td>\n",
       "      <td>...</td>\n",
       "      <td>...</td>\n",
       "    </tr>\n",
       "    <tr>\n",
       "      <th>2022-12-22</th>\n",
       "      <td>-0.003431</td>\n",
       "      <td>-0.002592</td>\n",
       "      <td>-0.002708</td>\n",
       "      <td>-0.007820</td>\n",
       "      <td>0.008281</td>\n",
       "    </tr>\n",
       "    <tr>\n",
       "      <th>2022-12-23</th>\n",
       "      <td>-0.008933</td>\n",
       "      <td>-0.029327</td>\n",
       "      <td>-0.009617</td>\n",
       "      <td>-0.009167</td>\n",
       "      <td>-0.016392</td>\n",
       "    </tr>\n",
       "    <tr>\n",
       "      <th>2022-12-26</th>\n",
       "      <td>0.019904</td>\n",
       "      <td>0.008732</td>\n",
       "      <td>0.007604</td>\n",
       "      <td>-0.001393</td>\n",
       "      <td>0.003540</td>\n",
       "    </tr>\n",
       "    <tr>\n",
       "      <th>2022-12-27</th>\n",
       "      <td>0.001013</td>\n",
       "      <td>0.008181</td>\n",
       "      <td>0.002029</td>\n",
       "      <td>-0.009246</td>\n",
       "      <td>0.008287</td>\n",
       "    </tr>\n",
       "    <tr>\n",
       "      <th>2022-12-28</th>\n",
       "      <td>-0.000797</td>\n",
       "      <td>-0.000098</td>\n",
       "      <td>-0.000736</td>\n",
       "      <td>-0.003721</td>\n",
       "      <td>-0.003103</td>\n",
       "    </tr>\n",
       "  </tbody>\n",
       "</table>\n",
       "<p>1974 rows × 5 columns</p>\n",
       "</div>"
      ],
      "text/plain": [
       "            HDFCBANK.NS  RELIANCE.NS    TCS.NS  HINDUNILVR.NS   INFY.NS\n",
       "Date                                                                   \n",
       "2015-01-01          NaN          NaN       NaN            NaN       NaN\n",
       "2015-01-02     0.013917    -0.002647  0.013317      -0.003296  0.019652\n",
       "2015-01-05    -0.008443    -0.010953 -0.015197       0.005754 -0.008594\n",
       "2015-01-06    -0.015567    -0.045385 -0.036866       0.018940 -0.020893\n",
       "2015-01-07     0.002919     0.021768 -0.011812       0.035110  0.004785\n",
       "...                 ...          ...       ...            ...       ...\n",
       "2022-12-22    -0.003431    -0.002592 -0.002708      -0.007820  0.008281\n",
       "2022-12-23    -0.008933    -0.029327 -0.009617      -0.009167 -0.016392\n",
       "2022-12-26     0.019904     0.008732  0.007604      -0.001393  0.003540\n",
       "2022-12-27     0.001013     0.008181  0.002029      -0.009246  0.008287\n",
       "2022-12-28    -0.000797    -0.000098 -0.000736      -0.003721 -0.003103\n",
       "\n",
       "[1974 rows x 5 columns]"
      ]
     },
     "execution_count": 10,
     "metadata": {},
     "output_type": "execute_result"
    }
   ],
   "source": [
    "#show daily returns\n",
    "returns = df.pct_change()\n",
    "returns\n"
   ]
  },
  {
   "cell_type": "code",
   "execution_count": 11,
   "metadata": {},
   "outputs": [
    {
     "data": {
      "text/html": [
       "<div>\n",
       "<style scoped>\n",
       "    .dataframe tbody tr th:only-of-type {\n",
       "        vertical-align: middle;\n",
       "    }\n",
       "\n",
       "    .dataframe tbody tr th {\n",
       "        vertical-align: top;\n",
       "    }\n",
       "\n",
       "    .dataframe thead th {\n",
       "        text-align: right;\n",
       "    }\n",
       "</style>\n",
       "<table border=\"1\" class=\"dataframe\">\n",
       "  <thead>\n",
       "    <tr style=\"text-align: right;\">\n",
       "      <th></th>\n",
       "      <th>HDFCBANK.NS</th>\n",
       "      <th>RELIANCE.NS</th>\n",
       "      <th>TCS.NS</th>\n",
       "      <th>HINDUNILVR.NS</th>\n",
       "      <th>INFY.NS</th>\n",
       "    </tr>\n",
       "  </thead>\n",
       "  <tbody>\n",
       "    <tr>\n",
       "      <th>HDFCBANK.NS</th>\n",
       "      <td>0.054690</td>\n",
       "      <td>0.027514</td>\n",
       "      <td>0.015031</td>\n",
       "      <td>0.015887</td>\n",
       "      <td>0.018178</td>\n",
       "    </tr>\n",
       "    <tr>\n",
       "      <th>RELIANCE.NS</th>\n",
       "      <td>0.027514</td>\n",
       "      <td>0.086228</td>\n",
       "      <td>0.019473</td>\n",
       "      <td>0.019159</td>\n",
       "      <td>0.020645</td>\n",
       "    </tr>\n",
       "    <tr>\n",
       "      <th>TCS.NS</th>\n",
       "      <td>0.015031</td>\n",
       "      <td>0.019473</td>\n",
       "      <td>0.059544</td>\n",
       "      <td>0.014110</td>\n",
       "      <td>0.036936</td>\n",
       "    </tr>\n",
       "    <tr>\n",
       "      <th>HINDUNILVR.NS</th>\n",
       "      <td>0.015887</td>\n",
       "      <td>0.019159</td>\n",
       "      <td>0.014110</td>\n",
       "      <td>0.055532</td>\n",
       "      <td>0.015022</td>\n",
       "    </tr>\n",
       "    <tr>\n",
       "      <th>INFY.NS</th>\n",
       "      <td>0.018178</td>\n",
       "      <td>0.020645</td>\n",
       "      <td>0.036936</td>\n",
       "      <td>0.015022</td>\n",
       "      <td>0.074306</td>\n",
       "    </tr>\n",
       "  </tbody>\n",
       "</table>\n",
       "</div>"
      ],
      "text/plain": [
       "               HDFCBANK.NS  RELIANCE.NS    TCS.NS  HINDUNILVR.NS   INFY.NS\n",
       "HDFCBANK.NS       0.054690     0.027514  0.015031       0.015887  0.018178\n",
       "RELIANCE.NS       0.027514     0.086228  0.019473       0.019159  0.020645\n",
       "TCS.NS            0.015031     0.019473  0.059544       0.014110  0.036936\n",
       "HINDUNILVR.NS     0.015887     0.019159  0.014110       0.055532  0.015022\n",
       "INFY.NS           0.018178     0.020645  0.036936       0.015022  0.074306"
      ]
     },
     "execution_count": 11,
     "metadata": {},
     "output_type": "execute_result"
    }
   ],
   "source": [
    "#Create and show annualized covariance matrix\n",
    "cov_matrix_annual = returns.cov() * 252\n",
    "cov_matrix_annual\n"
   ]
  },
  {
   "cell_type": "code",
   "execution_count": 12,
   "metadata": {},
   "outputs": [
    {
     "name": "stdout",
     "output_type": "stream",
     "text": [
      "Portfolio Variance:  0.029368317257330308\n"
     ]
    }
   ],
   "source": [
    "#Calculate portfolio variance\n",
    "port_variance = np.dot( weights.T, np.dot(cov_matrix_annual, weights))\n",
    "print('Portfolio Variance: ', port_variance)"
   ]
  },
  {
   "cell_type": "code",
   "execution_count": 13,
   "metadata": {},
   "outputs": [
    {
     "name": "stdout",
     "output_type": "stream",
     "text": [
      "Portfolio volatility:  0.1713718683370474\n"
     ]
    }
   ],
   "source": [
    "#Calculate portfolio volatility\n",
    "port_volatility = np.sqrt(port_variance)\n",
    "\n",
    "print('Portfolio volatility: ', port_volatility)"
   ]
  },
  {
   "cell_type": "code",
   "execution_count": 14,
   "metadata": {},
   "outputs": [
    {
     "name": "stdout",
     "output_type": "stream",
     "text": [
      "Annual Portfolio return:  0.20820776515824413\n"
     ]
    }
   ],
   "source": [
    "#Annual Portfolio return\n",
    "portfolioSimpleAnnualReturn = np.sum(returns.mean() * weights) *252\n",
    "\n",
    "print('Annual Portfolio return: ', portfolioSimpleAnnualReturn)"
   ]
  },
  {
   "cell_type": "code",
   "execution_count": 15,
   "metadata": {},
   "outputs": [
    {
     "name": "stdout",
     "output_type": "stream",
     "text": [
      "Expected annual return: 21.0%\n",
      "Annual volatility/risk: 17.0%\n",
      "Annual variance: 3.0%\n"
     ]
    }
   ],
   "source": [
    "#Show expected annual return, volatility, variance\n",
    "\n",
    "percent_var = str( round(port_variance, 2) * 100) + '%'\n",
    "percent_vols = str( round(port_volatility, 2) * 100) + '%'\n",
    "percent_ret = str( round(portfolioSimpleAnnualReturn, 2) * 100) + '%'\n",
    "\n",
    "print('Expected annual return: '+ percent_ret)\n",
    "print('Annual volatility/risk: '+ percent_vols)\n",
    "print('Annual variance: '+ percent_var)"
   ]
  },
  {
   "cell_type": "code",
   "execution_count": 16,
   "metadata": {},
   "outputs": [],
   "source": [
    "from pypfopt.efficient_frontier import EfficientFrontier\n",
    "from pypfopt import risk_models\n",
    "from pypfopt import expected_returns\n"
   ]
  },
  {
   "cell_type": "code",
   "execution_count": 17,
   "metadata": {},
   "outputs": [
    {
     "name": "stdout",
     "output_type": "stream",
     "text": [
      "OrderedDict([('HDFCBANK.NS', 0.18667), ('RELIANCE.NS', 0.29371), ('TCS.NS', 0.05409), ('HINDUNILVR.NS', 0.30789), ('INFY.NS', 0.15764)])\n",
      "Expected annual return: 20.5%\n",
      "Annual volatility: 17.7%\n",
      "Sharpe Ratio: 1.04\n"
     ]
    },
    {
     "data": {
      "text/plain": [
       "(0.20489550542866128, 0.17719831539563874, 1.0434382799624065)"
      ]
     },
     "execution_count": 17,
     "metadata": {},
     "output_type": "execute_result"
    }
   ],
   "source": [
    "#Calculate expected returns and annualised sample covariance matrix of asset returns\n",
    "mu = expected_returns.mean_historical_return(df)\n",
    "S = risk_models.sample_cov(df)\n",
    "\n",
    "#Optimize for max sharp ratio\n",
    "ef = EfficientFrontier(mu, S)\n",
    "weights = ef.max_sharpe()\n",
    "cleaned_weights = ef.clean_weights()\n",
    "print(cleaned_weights)\n",
    "ef.portfolio_performance(verbose = True)"
   ]
  },
  {
   "cell_type": "code",
   "execution_count": 18,
   "metadata": {},
   "outputs": [
    {
     "name": "stdout",
     "output_type": "stream",
     "text": [
      "Discrete allocation:  {'HDFCBANK.NS': 17, 'RELIANCE.NS': 17, 'TCS.NS': 3, 'HINDUNILVR.NS': 18, 'INFY.NS': 15}\n",
      "Funds remaining: ₹109.40\n"
     ]
    }
   ],
   "source": [
    "#Get discreet allocation for each share per stock\n",
    "\n",
    "from pypfopt.discrete_allocation import DiscreteAllocation, get_latest_prices\n",
    "\n",
    "latest_prices = get_latest_prices(df)\n",
    "weights = cleaned_weights\n",
    "da = DiscreteAllocation(weights, latest_prices, total_portfolio_value= 150000)\n",
    "\n",
    "allocation , leftover = da.lp_portfolio()\n",
    "print('Discrete allocation: ', allocation)\n",
    "print('Funds remaining: ₹{:.2f}'.format(leftover))"
   ]
  }
 ],
 "metadata": {
  "kernelspec": {
   "display_name": "Python 3.10.6 64-bit",
   "language": "python",
   "name": "python3"
  },
  "language_info": {
   "codemirror_mode": {
    "name": "ipython",
    "version": 3
   },
   "file_extension": ".py",
   "mimetype": "text/x-python",
   "name": "python",
   "nbconvert_exporter": "python",
   "pygments_lexer": "ipython3",
   "version": "3.10.6"
  },
  "vscode": {
   "interpreter": {
    "hash": "2fb601f98628d10ac934d3ad0c7e38fe440f8fa5bc06c5a0f74051b06bc205b5"
   }
  }
 },
 "nbformat": 4,
 "nbformat_minor": 2
}
