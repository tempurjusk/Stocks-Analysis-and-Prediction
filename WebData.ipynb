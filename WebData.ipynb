{
 "cells": [
  {
   "cell_type": "code",
   "execution_count": 1,
   "metadata": {},
   "outputs": [],
   "source": [
    "#Importing the libraries\n",
    "import math\n",
    "import pandas as pd\n",
    "import pandas_datareader as web\n",
    "import numpy as np\n",
    "import matplotlib.pyplot as plt\n",
    "from sklearn.preprocessing import MinMaxScaler\n",
    "from keras.models import Sequential\n",
    "from keras.layers import Dense , LSTM , Dropout\n",
    "import yfinance as yf\n",
    "\n",
    "\n"
   ]
  },
  {
   "cell_type": "code",
   "execution_count": 2,
   "metadata": {},
   "outputs": [
    {
     "name": "stdout",
     "output_type": "stream",
     "text": [
      "[*********************100%***********************]  1 of 1 completed\n"
     ]
    }
   ],
   "source": [
    "#Importing the data\n",
    "df = yf.download('HDFCBANK.NS', start= '2012-01-01', end= '2020-11-15')\n",
    "#df = pd.read_csv('HDFCBANK.NS.csv')"
   ]
  },
  {
   "cell_type": "code",
   "execution_count": 3,
   "metadata": {},
   "outputs": [
    {
     "data": {
      "text/html": [
       "<div>\n",
       "<style scoped>\n",
       "    .dataframe tbody tr th:only-of-type {\n",
       "        vertical-align: middle;\n",
       "    }\n",
       "\n",
       "    .dataframe tbody tr th {\n",
       "        vertical-align: top;\n",
       "    }\n",
       "\n",
       "    .dataframe thead th {\n",
       "        text-align: right;\n",
       "    }\n",
       "</style>\n",
       "<table border=\"1\" class=\"dataframe\">\n",
       "  <thead>\n",
       "    <tr style=\"text-align: right;\">\n",
       "      <th></th>\n",
       "      <th>Open</th>\n",
       "      <th>High</th>\n",
       "      <th>Low</th>\n",
       "      <th>Close</th>\n",
       "      <th>Adj Close</th>\n",
       "      <th>Volume</th>\n",
       "    </tr>\n",
       "    <tr>\n",
       "      <th>Date</th>\n",
       "      <th></th>\n",
       "      <th></th>\n",
       "      <th></th>\n",
       "      <th></th>\n",
       "      <th></th>\n",
       "      <th></th>\n",
       "    </tr>\n",
       "  </thead>\n",
       "  <tbody>\n",
       "    <tr>\n",
       "      <th>2012-01-02</th>\n",
       "      <td>214.449997</td>\n",
       "      <td>214.899994</td>\n",
       "      <td>209.750000</td>\n",
       "      <td>213.425003</td>\n",
       "      <td>197.498611</td>\n",
       "      <td>3514998</td>\n",
       "    </tr>\n",
       "    <tr>\n",
       "      <th>2012-01-03</th>\n",
       "      <td>215.699997</td>\n",
       "      <td>220.449997</td>\n",
       "      <td>215.000000</td>\n",
       "      <td>219.574997</td>\n",
       "      <td>203.189651</td>\n",
       "      <td>3439238</td>\n",
       "    </tr>\n",
       "    <tr>\n",
       "      <th>2012-01-04</th>\n",
       "      <td>220.949997</td>\n",
       "      <td>222.475006</td>\n",
       "      <td>215.425003</td>\n",
       "      <td>221.649994</td>\n",
       "      <td>205.109818</td>\n",
       "      <td>4871478</td>\n",
       "    </tr>\n",
       "    <tr>\n",
       "      <th>2012-01-05</th>\n",
       "      <td>222.000000</td>\n",
       "      <td>223.350006</td>\n",
       "      <td>220.149994</td>\n",
       "      <td>221.824997</td>\n",
       "      <td>205.271759</td>\n",
       "      <td>3380606</td>\n",
       "    </tr>\n",
       "    <tr>\n",
       "      <th>2012-01-06</th>\n",
       "      <td>220.500000</td>\n",
       "      <td>228.574997</td>\n",
       "      <td>219.475006</td>\n",
       "      <td>226.649994</td>\n",
       "      <td>209.736710</td>\n",
       "      <td>3977222</td>\n",
       "    </tr>\n",
       "    <tr>\n",
       "      <th>...</th>\n",
       "      <td>...</td>\n",
       "      <td>...</td>\n",
       "      <td>...</td>\n",
       "      <td>...</td>\n",
       "      <td>...</td>\n",
       "      <td>...</td>\n",
       "    </tr>\n",
       "    <tr>\n",
       "      <th>2020-11-10</th>\n",
       "      <td>1357.000000</td>\n",
       "      <td>1395.000000</td>\n",
       "      <td>1351.550049</td>\n",
       "      <td>1393.650024</td>\n",
       "      <td>1371.695557</td>\n",
       "      <td>20758678</td>\n",
       "    </tr>\n",
       "    <tr>\n",
       "      <th>2020-11-11</th>\n",
       "      <td>1399.900024</td>\n",
       "      <td>1414.800049</td>\n",
       "      <td>1370.500000</td>\n",
       "      <td>1389.949951</td>\n",
       "      <td>1368.053833</td>\n",
       "      <td>18058097</td>\n",
       "    </tr>\n",
       "    <tr>\n",
       "      <th>2020-11-12</th>\n",
       "      <td>1377.400024</td>\n",
       "      <td>1388.550049</td>\n",
       "      <td>1360.000000</td>\n",
       "      <td>1371.699951</td>\n",
       "      <td>1350.091187</td>\n",
       "      <td>13526974</td>\n",
       "    </tr>\n",
       "    <tr>\n",
       "      <th>2020-11-13</th>\n",
       "      <td>1368.800049</td>\n",
       "      <td>1368.800049</td>\n",
       "      <td>1347.000000</td>\n",
       "      <td>1358.800049</td>\n",
       "      <td>1337.394653</td>\n",
       "      <td>11236240</td>\n",
       "    </tr>\n",
       "    <tr>\n",
       "      <th>2020-11-14</th>\n",
       "      <td>1367.800049</td>\n",
       "      <td>1374.949951</td>\n",
       "      <td>1365.199951</td>\n",
       "      <td>1369.699951</td>\n",
       "      <td>1348.122803</td>\n",
       "      <td>917533</td>\n",
       "    </tr>\n",
       "  </tbody>\n",
       "</table>\n",
       "<p>2186 rows × 6 columns</p>\n",
       "</div>"
      ],
      "text/plain": [
       "                   Open         High          Low        Close    Adj Close  \\\n",
       "Date                                                                          \n",
       "2012-01-02   214.449997   214.899994   209.750000   213.425003   197.498611   \n",
       "2012-01-03   215.699997   220.449997   215.000000   219.574997   203.189651   \n",
       "2012-01-04   220.949997   222.475006   215.425003   221.649994   205.109818   \n",
       "2012-01-05   222.000000   223.350006   220.149994   221.824997   205.271759   \n",
       "2012-01-06   220.500000   228.574997   219.475006   226.649994   209.736710   \n",
       "...                 ...          ...          ...          ...          ...   \n",
       "2020-11-10  1357.000000  1395.000000  1351.550049  1393.650024  1371.695557   \n",
       "2020-11-11  1399.900024  1414.800049  1370.500000  1389.949951  1368.053833   \n",
       "2020-11-12  1377.400024  1388.550049  1360.000000  1371.699951  1350.091187   \n",
       "2020-11-13  1368.800049  1368.800049  1347.000000  1358.800049  1337.394653   \n",
       "2020-11-14  1367.800049  1374.949951  1365.199951  1369.699951  1348.122803   \n",
       "\n",
       "              Volume  \n",
       "Date                  \n",
       "2012-01-02   3514998  \n",
       "2012-01-03   3439238  \n",
       "2012-01-04   4871478  \n",
       "2012-01-05   3380606  \n",
       "2012-01-06   3977222  \n",
       "...              ...  \n",
       "2020-11-10  20758678  \n",
       "2020-11-11  18058097  \n",
       "2020-11-12  13526974  \n",
       "2020-11-13  11236240  \n",
       "2020-11-14    917533  \n",
       "\n",
       "[2186 rows x 6 columns]"
      ]
     },
     "execution_count": 3,
     "metadata": {},
     "output_type": "execute_result"
    }
   ],
   "source": [
    "df "
   ]
  },
  {
   "cell_type": "code",
   "execution_count": 4,
   "metadata": {},
   "outputs": [
    {
     "data": {
      "text/plain": [
       "(2186, 6)"
      ]
     },
     "execution_count": 4,
     "metadata": {},
     "output_type": "execute_result"
    }
   ],
   "source": [
    "df.shape"
   ]
  },
  {
   "cell_type": "code",
   "execution_count": 5,
   "metadata": {},
   "outputs": [
    {
     "data": {
      "text/plain": [
       "1749"
      ]
     },
     "execution_count": 5,
     "metadata": {},
     "output_type": "execute_result"
    }
   ],
   "source": [
    "data = df.filter(['Close'])\n",
    "dataset = data.values\n",
    "training_data_len = math.ceil( len(dataset) * .8)\n",
    "\n",
    "training_data_len\n"
   ]
  },
  {
   "cell_type": "code",
   "execution_count": 6,
   "metadata": {},
   "outputs": [
    {
     "data": {
      "text/html": [
       "<div>\n",
       "<style scoped>\n",
       "    .dataframe tbody tr th:only-of-type {\n",
       "        vertical-align: middle;\n",
       "    }\n",
       "\n",
       "    .dataframe tbody tr th {\n",
       "        vertical-align: top;\n",
       "    }\n",
       "\n",
       "    .dataframe thead th {\n",
       "        text-align: right;\n",
       "    }\n",
       "</style>\n",
       "<table border=\"1\" class=\"dataframe\">\n",
       "  <thead>\n",
       "    <tr style=\"text-align: right;\">\n",
       "      <th></th>\n",
       "      <th>Close</th>\n",
       "    </tr>\n",
       "    <tr>\n",
       "      <th>Date</th>\n",
       "      <th></th>\n",
       "    </tr>\n",
       "  </thead>\n",
       "  <tbody>\n",
       "    <tr>\n",
       "      <th>2012-01-02</th>\n",
       "      <td>213.425003</td>\n",
       "    </tr>\n",
       "    <tr>\n",
       "      <th>2012-01-03</th>\n",
       "      <td>219.574997</td>\n",
       "    </tr>\n",
       "    <tr>\n",
       "      <th>2012-01-04</th>\n",
       "      <td>221.649994</td>\n",
       "    </tr>\n",
       "    <tr>\n",
       "      <th>2012-01-05</th>\n",
       "      <td>221.824997</td>\n",
       "    </tr>\n",
       "    <tr>\n",
       "      <th>2012-01-06</th>\n",
       "      <td>226.649994</td>\n",
       "    </tr>\n",
       "    <tr>\n",
       "      <th>...</th>\n",
       "      <td>...</td>\n",
       "    </tr>\n",
       "    <tr>\n",
       "      <th>2020-11-10</th>\n",
       "      <td>1393.650024</td>\n",
       "    </tr>\n",
       "    <tr>\n",
       "      <th>2020-11-11</th>\n",
       "      <td>1389.949951</td>\n",
       "    </tr>\n",
       "    <tr>\n",
       "      <th>2020-11-12</th>\n",
       "      <td>1371.699951</td>\n",
       "    </tr>\n",
       "    <tr>\n",
       "      <th>2020-11-13</th>\n",
       "      <td>1358.800049</td>\n",
       "    </tr>\n",
       "    <tr>\n",
       "      <th>2020-11-14</th>\n",
       "      <td>1369.699951</td>\n",
       "    </tr>\n",
       "  </tbody>\n",
       "</table>\n",
       "<p>2186 rows × 1 columns</p>\n",
       "</div>"
      ],
      "text/plain": [
       "                  Close\n",
       "Date                   \n",
       "2012-01-02   213.425003\n",
       "2012-01-03   219.574997\n",
       "2012-01-04   221.649994\n",
       "2012-01-05   221.824997\n",
       "2012-01-06   226.649994\n",
       "...                 ...\n",
       "2020-11-10  1393.650024\n",
       "2020-11-11  1389.949951\n",
       "2020-11-12  1371.699951\n",
       "2020-11-13  1358.800049\n",
       "2020-11-14  1369.699951\n",
       "\n",
       "[2186 rows x 1 columns]"
      ]
     },
     "execution_count": 6,
     "metadata": {},
     "output_type": "execute_result"
    }
   ],
   "source": [
    "data\n"
   ]
  },
  {
   "cell_type": "code",
   "execution_count": 7,
   "metadata": {},
   "outputs": [
    {
     "data": {
      "text/plain": [
       "array([[ 213.42500305],\n",
       "       [ 219.57499695],\n",
       "       [ 221.6499939 ],\n",
       "       ...,\n",
       "       [1371.69995117],\n",
       "       [1358.80004883],\n",
       "       [1369.69995117]])"
      ]
     },
     "execution_count": 7,
     "metadata": {},
     "output_type": "execute_result"
    }
   ],
   "source": [
    "\n",
    "dataset"
   ]
  },
  {
   "cell_type": "code",
   "execution_count": 8,
   "metadata": {},
   "outputs": [
    {
     "data": {
      "text/plain": [
       "array([[0.        ],\n",
       "       [0.00521087],\n",
       "       [0.006969  ],\n",
       "       ...,\n",
       "       [0.98140179],\n",
       "       [0.97047175],\n",
       "       [0.9797072 ]])"
      ]
     },
     "execution_count": 8,
     "metadata": {},
     "output_type": "execute_result"
    }
   ],
   "source": [
    "#Scaling the values between 0 to 1\n",
    "scaler = MinMaxScaler(feature_range=(0,1))\n",
    "scaled_data = scaler.fit_transform(dataset)\n",
    "\n",
    "scaled_data"
   ]
  },
  {
   "cell_type": "code",
   "execution_count": 9,
   "metadata": {},
   "outputs": [
    {
     "data": {
      "text/plain": [
       "<function matplotlib.pyplot.show(close=None, block=None)>"
      ]
     },
     "execution_count": 9,
     "metadata": {},
     "output_type": "execute_result"
    },
    {
     "data": {
      "image/png": "[encoded data removed]",
      "text/plain": [
       "<Figure size 1600x800 with 1 Axes>"
      ]
     },
     "metadata": {},
     "output_type": "display_data"
    }
   ],
   "source": [
    "plt.figure(figsize=(16,8))\n",
    "plt.title('Close Prices History')\n",
    "plt.xlabel('Time')\n",
    "plt.ylabel('Prices')\n",
    "plt.plot(df['Close'])\n",
    "\n",
    "plt.legend(['Close Price'], loc='lower right')\n",
    "plt.show"
   ]
  },
  {
   "cell_type": "code",
   "execution_count": 10,
   "metadata": {},
   "outputs": [],
   "source": [
    "#train_open_scaled[60]"
   ]
  },
  {
   "cell_type": "markdown",
   "metadata": {},
   "source": [
    "Below we will be taking previous 60 days open datasteps to predict the next values so we are converting the data as per our input in LTSM layers.\n",
    "i.e for taking 0 to 59 days open price to get 60th day price as output, 1 to 60 for 61, 2 to 61 for 62"
   ]
  },
  {
   "cell_type": "code",
   "execution_count": 11,
   "metadata": {},
   "outputs": [],
   "source": [
    "# Feature selection\n",
    "train_data = scaled_data[0:training_data_len , :]\n",
    "x_train=[]\n",
    "y_train=[]\n",
    "\n",
    "for i in range(60, len(train_data)):\n",
    "    x_train.append(train_data[i-60:i, 0])\n",
    "    y_train.append(train_data[i, 0])\n",
    "\n"
   ]
  },
  {
   "cell_type": "code",
   "execution_count": 12,
   "metadata": {},
   "outputs": [],
   "source": [
    "x_train, y_train = np.array(x_train), np.array(y_train)"
   ]
  },
  {
   "cell_type": "code",
   "execution_count": 13,
   "metadata": {},
   "outputs": [
    {
     "data": {
      "text/plain": [
       "(1689, 60, 1)"
      ]
     },
     "execution_count": 13,
     "metadata": {},
     "output_type": "execute_result"
    }
   ],
   "source": [
    "#Reshaping the train data to make it as input for LTSM layer input_shape(batchzise,timesteps,input_dim)\n",
    "xtrain= np.reshape(x_train,(x_train.shape[0],x_train.shape[1],1))\n",
    "xtrain.shape"
   ]
  },
  {
   "cell_type": "markdown",
   "metadata": {},
   "source": [
    "### Building the LSTM Network"
   ]
  },
  {
   "cell_type": "code",
   "execution_count": 14,
   "metadata": {},
   "outputs": [],
   "source": [
    "#initialisizng the model \n",
    "model= Sequential()\n",
    "\n",
    "#First Input layer and LSTM layer\n",
    "model.add(LSTM(50, return_sequences=True,kernel_initializer='glorot_uniform',input_shape=(xtrain.shape[1],1)))\n",
    "\n",
    "model.add(LSTM(50, kernel_initializer='glorot_uniform',return_sequences=False))\n",
    "\n",
    "model.add(Dense(25))\n",
    "\n",
    "model.add(Dense(1))"
   ]
  },
  {
   "cell_type": "code",
   "execution_count": 15,
   "metadata": {},
   "outputs": [
    {
     "name": "stdout",
     "output_type": "stream",
     "text": [
      "Epoch 1/5\n",
      "1689/1689 [==============================] - 71s 39ms/step - loss: 9.1652e-04\n",
      "Epoch 2/5\n",
      "1689/1689 [==============================] - 54s 32ms/step - loss: 4.0686e-04\n",
      "Epoch 3/5\n",
      "1689/1689 [==============================] - 57s 34ms/step - loss: 2.6924e-04\n",
      "Epoch 4/5\n",
      "1689/1689 [==============================] - 48s 28ms/step - loss: 2.7558e-04\n",
      "Epoch 5/5\n",
      "1689/1689 [==============================] - 41s 24ms/step - loss: 2.0302e-04\n"
     ]
    },
    {
     "data": {
      "text/plain": [
       "<keras.callbacks.History at 0x2573321d750>"
      ]
     },
     "execution_count": 15,
     "metadata": {},
     "output_type": "execute_result"
    }
   ],
   "source": [
    "#Compiling the network\n",
    "model.compile(optimizer='adam',loss='mean_squared_error')\n",
    "\n",
    "\n",
    "#fitting the network\n",
    "model.fit(x_train,y_train,batch_size=1,epochs=5)"
   ]
  },
  {
   "cell_type": "markdown",
   "metadata": {},
   "source": [
    "### Predicting for test data\n",
    "\n",
    "As we have 60 input in our layer, we will concatenate our train and test and will take last 60 values of our training set with test set"
   ]
  },
  {
   "cell_type": "code",
   "execution_count": 16,
   "metadata": {},
   "outputs": [],
   "source": [
    "\n",
    "test_data = scaled_data[training_data_len - 60: , :]"
   ]
  },
  {
   "cell_type": "code",
   "execution_count": 17,
   "metadata": {},
   "outputs": [],
   "source": [
    "x_test= []\n",
    "y_test= dataset[training_data_len:, :]\n",
    "for i in range(60, len(test_data)):\n",
    "    x_test.append(test_data[i-60:i, 0]) #creating input for lstm prediction"
   ]
  },
  {
   "cell_type": "code",
   "execution_count": 18,
   "metadata": {},
   "outputs": [],
   "source": [
    "x_test= np.array(x_test)"
   ]
  },
  {
   "cell_type": "code",
   "execution_count": 19,
   "metadata": {},
   "outputs": [
    {
     "data": {
      "text/plain": [
       "(437, 60)"
      ]
     },
     "execution_count": 19,
     "metadata": {},
     "output_type": "execute_result"
    }
   ],
   "source": [
    "x_test.shape"
   ]
  },
  {
   "cell_type": "code",
   "execution_count": 20,
   "metadata": {},
   "outputs": [],
   "source": [
    "x_test= np.reshape(x_test, (x_test.shape[0], x_test.shape[1], 1 ))"
   ]
  },
  {
   "cell_type": "code",
   "execution_count": 21,
   "metadata": {},
   "outputs": [
    {
     "name": "stdout",
     "output_type": "stream",
     "text": [
      "14/14 [==============================] - 1s 21ms/step\n"
     ]
    }
   ],
   "source": [
    "predictions = model.predict(x_test)\n",
    "predictions = scaler.inverse_transform(predictions)"
   ]
  },
  {
   "cell_type": "code",
   "execution_count": 22,
   "metadata": {},
   "outputs": [
    {
     "data": {
      "text/plain": [
       "27.773932286828174"
      ]
     },
     "execution_count": 22,
     "metadata": {},
     "output_type": "execute_result"
    }
   ],
   "source": [
    "rmse=np.sqrt(np.mean(((predictions- y_test)**2)))\n",
    "rmse"
   ]
  },
  {
   "cell_type": "markdown",
   "metadata": {},
   "source": [
    "### Plotting the data"
   ]
  },
  {
   "cell_type": "code",
   "execution_count": 23,
   "metadata": {},
   "outputs": [
    {
     "name": "stderr",
     "output_type": "stream",
     "text": [
      "C:\\Users\\tempu\\AppData\\Local\\Temp\\ipykernel_21212\\4292948666.py:3: SettingWithCopyWarning: \n",
      "A value is trying to be set on a copy of a slice from a DataFrame.\n",
      "Try using .loc[row_indexer,col_indexer] = value instead\n",
      "\n",
      "See the caveats in the documentation: https://pandas.pydata.org/pandas-docs/stable/user_guide/indexing.html#returning-a-view-versus-a-copy\n",
      "  valid['predictions'] = predictions\n"
     ]
    },
    {
     "data": {
      "text/plain": [
       "<function matplotlib.pyplot.show(close=None, block=None)>"
      ]
     },
     "execution_count": 23,
     "metadata": {},
     "output_type": "execute_result"
    },
    {
     "data": {
      "image/png": "[encoded data removed]",
      "text/plain": [
       "<Figure size 1600x800 with 1 Axes>"
      ]
     },
     "metadata": {},
     "output_type": "display_data"
    }
   ],
   "source": [
    "train = data[:training_data_len]\n",
    "valid = data[training_data_len:]\n",
    "valid['predictions'] = predictions\n",
    "\n",
    "plt.figure(figsize=(16,8))\n",
    "plt.title('Real vs Predicted Prices')\n",
    "plt.xlabel('Time')\n",
    "plt.ylabel('Prices')\n",
    "plt.plot(train['Close'])\n",
    "plt.plot(valid[['Close', 'predictions']])\n",
    "\n",
    "plt.legend(['Train', 'Actual', 'predictions'], loc='lower right')\n",
    "plt.show\n"
   ]
  },
  {
   "cell_type": "code",
   "execution_count": 24,
   "metadata": {},
   "outputs": [
    {
     "data": {
      "text/html": [
       "<div>\n",
       "<style scoped>\n",
       "    .dataframe tbody tr th:only-of-type {\n",
       "        vertical-align: middle;\n",
       "    }\n",
       "\n",
       "    .dataframe tbody tr th {\n",
       "        vertical-align: top;\n",
       "    }\n",
       "\n",
       "    .dataframe thead th {\n",
       "        text-align: right;\n",
       "    }\n",
       "</style>\n",
       "<table border=\"1\" class=\"dataframe\">\n",
       "  <thead>\n",
       "    <tr style=\"text-align: right;\">\n",
       "      <th></th>\n",
       "      <th>Close</th>\n",
       "      <th>predictions</th>\n",
       "    </tr>\n",
       "    <tr>\n",
       "      <th>Date</th>\n",
       "      <th></th>\n",
       "      <th></th>\n",
       "    </tr>\n",
       "  </thead>\n",
       "  <tbody>\n",
       "    <tr>\n",
       "      <th>2019-02-06</th>\n",
       "      <td>1061.324951</td>\n",
       "      <td>1066.717407</td>\n",
       "    </tr>\n",
       "    <tr>\n",
       "      <th>2019-02-07</th>\n",
       "      <td>1058.625000</td>\n",
       "      <td>1070.440552</td>\n",
       "    </tr>\n",
       "    <tr>\n",
       "      <th>2019-02-08</th>\n",
       "      <td>1061.324951</td>\n",
       "      <td>1070.390503</td>\n",
       "    </tr>\n",
       "    <tr>\n",
       "      <th>2019-02-11</th>\n",
       "      <td>1069.824951</td>\n",
       "      <td>1070.864502</td>\n",
       "    </tr>\n",
       "    <tr>\n",
       "      <th>2019-02-12</th>\n",
       "      <td>1064.849976</td>\n",
       "      <td>1074.984253</td>\n",
       "    </tr>\n",
       "    <tr>\n",
       "      <th>...</th>\n",
       "      <td>...</td>\n",
       "      <td>...</td>\n",
       "    </tr>\n",
       "    <tr>\n",
       "      <th>2020-11-10</th>\n",
       "      <td>1393.650024</td>\n",
       "      <td>1314.676880</td>\n",
       "    </tr>\n",
       "    <tr>\n",
       "      <th>2020-11-11</th>\n",
       "      <td>1389.949951</td>\n",
       "      <td>1352.840698</td>\n",
       "    </tr>\n",
       "    <tr>\n",
       "      <th>2020-11-12</th>\n",
       "      <td>1371.699951</td>\n",
       "      <td>1367.779297</td>\n",
       "    </tr>\n",
       "    <tr>\n",
       "      <th>2020-11-13</th>\n",
       "      <td>1358.800049</td>\n",
       "      <td>1361.991211</td>\n",
       "    </tr>\n",
       "    <tr>\n",
       "      <th>2020-11-14</th>\n",
       "      <td>1369.699951</td>\n",
       "      <td>1350.920898</td>\n",
       "    </tr>\n",
       "  </tbody>\n",
       "</table>\n",
       "<p>437 rows × 2 columns</p>\n",
       "</div>"
      ],
      "text/plain": [
       "                  Close  predictions\n",
       "Date                                \n",
       "2019-02-06  1061.324951  1066.717407\n",
       "2019-02-07  1058.625000  1070.440552\n",
       "2019-02-08  1061.324951  1070.390503\n",
       "2019-02-11  1069.824951  1070.864502\n",
       "2019-02-12  1064.849976  1074.984253\n",
       "...                 ...          ...\n",
       "2020-11-10  1393.650024  1314.676880\n",
       "2020-11-11  1389.949951  1352.840698\n",
       "2020-11-12  1371.699951  1367.779297\n",
       "2020-11-13  1358.800049  1361.991211\n",
       "2020-11-14  1369.699951  1350.920898\n",
       "\n",
       "[437 rows x 2 columns]"
      ]
     },
     "execution_count": 24,
     "metadata": {},
     "output_type": "execute_result"
    }
   ],
   "source": [
    "valid"
   ]
  },
  {
   "cell_type": "code",
   "execution_count": 25,
   "metadata": {},
   "outputs": [],
   "source": [
    "#data.to_csv('predicted.csv')"
   ]
  },
  {
   "cell_type": "code",
   "execution_count": 26,
   "metadata": {},
   "outputs": [
    {
     "name": "stdout",
     "output_type": "stream",
     "text": [
      "[*********************100%***********************]  1 of 1 completed\n",
      "1/1 [==============================] - 0s 39ms/step\n"
     ]
    },
    {
     "data": {
      "text/plain": [
       "array([[1352.0208]], dtype=float32)"
      ]
     },
     "execution_count": 26,
     "metadata": {},
     "output_type": "execute_result"
    }
   ],
   "source": [
    "stock_quote = yf.download('HDFCBANK.NS', start= '2012-01-01', end= '2020-11-17')\n",
    "\n",
    "#Create new dataframe\n",
    "new_df = stock_quote.filter(['Close'])\n",
    "#Get last 60 days\n",
    "last_60_days = new_df[-60:].values\n",
    "#Scale data\n",
    "last_60_days_scaled = scaler.transform(last_60_days)\n",
    "#Create an empty list\n",
    "X_test = []\n",
    "#Append the last 60 days\n",
    "X_test.append(last_60_days_scaled)\n",
    "#Convert into numpy\n",
    "X_test = np.array(X_test)\n",
    "#reshape the data to 3D\n",
    "X_test= np.reshape(X_test,(X_test.shape[0], X_test.shape[1], 1 ))\n",
    "#Get prediction for 61st day\n",
    "pred_price = model.predict(X_test)\n",
    "#Undo Scaling\n",
    "pred_price = scaler.inverse_transform(pred_price)\n",
    "pred_price\n"
   ]
  },
  {
   "cell_type": "code",
   "execution_count": 27,
   "metadata": {},
   "outputs": [
    {
     "name": "stdout",
     "output_type": "stream",
     "text": [
      "[*********************100%***********************]  1 of 1 completed\n"
     ]
    },
    {
     "data": {
      "text/html": [
       "<div>\n",
       "<style scoped>\n",
       "    .dataframe tbody tr th:only-of-type {\n",
       "        vertical-align: middle;\n",
       "    }\n",
       "\n",
       "    .dataframe tbody tr th {\n",
       "        vertical-align: top;\n",
       "    }\n",
       "\n",
       "    .dataframe thead th {\n",
       "        text-align: right;\n",
       "    }\n",
       "</style>\n",
       "<table border=\"1\" class=\"dataframe\">\n",
       "  <thead>\n",
       "    <tr style=\"text-align: right;\">\n",
       "      <th></th>\n",
       "      <th>Open</th>\n",
       "      <th>High</th>\n",
       "      <th>Low</th>\n",
       "      <th>Close</th>\n",
       "      <th>Adj Close</th>\n",
       "      <th>Volume</th>\n",
       "    </tr>\n",
       "    <tr>\n",
       "      <th>Date</th>\n",
       "      <th></th>\n",
       "      <th></th>\n",
       "      <th></th>\n",
       "      <th></th>\n",
       "      <th></th>\n",
       "      <th></th>\n",
       "    </tr>\n",
       "  </thead>\n",
       "  <tbody>\n",
       "    <tr>\n",
       "      <th>2020-11-10</th>\n",
       "      <td>1357.000000</td>\n",
       "      <td>1395.000000</td>\n",
       "      <td>1351.550049</td>\n",
       "      <td>1393.650024</td>\n",
       "      <td>1371.695557</td>\n",
       "      <td>20758678</td>\n",
       "    </tr>\n",
       "    <tr>\n",
       "      <th>2020-11-11</th>\n",
       "      <td>1399.900024</td>\n",
       "      <td>1414.800049</td>\n",
       "      <td>1370.500000</td>\n",
       "      <td>1389.949951</td>\n",
       "      <td>1368.053833</td>\n",
       "      <td>18058097</td>\n",
       "    </tr>\n",
       "    <tr>\n",
       "      <th>2020-11-12</th>\n",
       "      <td>1377.400024</td>\n",
       "      <td>1388.550049</td>\n",
       "      <td>1360.000000</td>\n",
       "      <td>1371.699951</td>\n",
       "      <td>1350.091187</td>\n",
       "      <td>13526974</td>\n",
       "    </tr>\n",
       "    <tr>\n",
       "      <th>2020-11-13</th>\n",
       "      <td>1368.800049</td>\n",
       "      <td>1368.800049</td>\n",
       "      <td>1347.000000</td>\n",
       "      <td>1358.800049</td>\n",
       "      <td>1337.394653</td>\n",
       "      <td>11236240</td>\n",
       "    </tr>\n",
       "    <tr>\n",
       "      <th>2020-11-14</th>\n",
       "      <td>1367.800049</td>\n",
       "      <td>1374.949951</td>\n",
       "      <td>1365.199951</td>\n",
       "      <td>1369.699951</td>\n",
       "      <td>1348.122803</td>\n",
       "      <td>917533</td>\n",
       "    </tr>\n",
       "    <tr>\n",
       "      <th>2020-11-17</th>\n",
       "      <td>1385.800049</td>\n",
       "      <td>1412.599976</td>\n",
       "      <td>1380.599976</td>\n",
       "      <td>1408.449951</td>\n",
       "      <td>1386.262329</td>\n",
       "      <td>15529950</td>\n",
       "    </tr>\n",
       "    <tr>\n",
       "      <th>2020-11-18</th>\n",
       "      <td>1403.000000</td>\n",
       "      <td>1419.000000</td>\n",
       "      <td>1399.050049</td>\n",
       "      <td>1408.699951</td>\n",
       "      <td>1386.508423</td>\n",
       "      <td>9431388</td>\n",
       "    </tr>\n",
       "    <tr>\n",
       "      <th>2020-11-19</th>\n",
       "      <td>1389.699951</td>\n",
       "      <td>1399.449951</td>\n",
       "      <td>1368.000000</td>\n",
       "      <td>1374.349976</td>\n",
       "      <td>1352.699585</td>\n",
       "      <td>10133441</td>\n",
       "    </tr>\n",
       "  </tbody>\n",
       "</table>\n",
       "</div>"
      ],
      "text/plain": [
       "                   Open         High          Low        Close    Adj Close  \\\n",
       "Date                                                                          \n",
       "2020-11-10  1357.000000  1395.000000  1351.550049  1393.650024  1371.695557   \n",
       "2020-11-11  1399.900024  1414.800049  1370.500000  1389.949951  1368.053833   \n",
       "2020-11-12  1377.400024  1388.550049  1360.000000  1371.699951  1350.091187   \n",
       "2020-11-13  1368.800049  1368.800049  1347.000000  1358.800049  1337.394653   \n",
       "2020-11-14  1367.800049  1374.949951  1365.199951  1369.699951  1348.122803   \n",
       "2020-11-17  1385.800049  1412.599976  1380.599976  1408.449951  1386.262329   \n",
       "2020-11-18  1403.000000  1419.000000  1399.050049  1408.699951  1386.508423   \n",
       "2020-11-19  1389.699951  1399.449951  1368.000000  1374.349976  1352.699585   \n",
       "\n",
       "              Volume  \n",
       "Date                  \n",
       "2020-11-10  20758678  \n",
       "2020-11-11  18058097  \n",
       "2020-11-12  13526974  \n",
       "2020-11-13  11236240  \n",
       "2020-11-14    917533  \n",
       "2020-11-17  15529950  \n",
       "2020-11-18   9431388  \n",
       "2020-11-19  10133441  "
      ]
     },
     "execution_count": 27,
     "metadata": {},
     "output_type": "execute_result"
    }
   ],
   "source": [
    "actual_quote = yf.download('HDFCBANK.NS', start= '2020-11-10', end= '2020-11-20')\n",
    "actual_quote"
   ]
  }
 ],
 "metadata": {
  "kernelspec": {
   "display_name": "Python 3.10.6 64-bit",
   "language": "python",
   "name": "python3"
  },
  "language_info": {
   "codemirror_mode": {
    "name": "ipython",
    "version": 3
   },
   "file_extension": ".py",
   "mimetype": "text/x-python",
   "name": "python",
   "nbconvert_exporter": "python",
   "pygments_lexer": "ipython3",
   "version": "3.10.6"
  },
  "vscode": {
   "interpreter": {
    "hash": "2fb601f98628d10ac934d3ad0c7e38fe440f8fa5bc06c5a0f74051b06bc205b5"
   }
  }
 },
 "nbformat": 4,
 "nbformat_minor": 2
}
